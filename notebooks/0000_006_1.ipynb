{
 "cells": [
  {
   "cell_type": "markdown",
   "metadata": {},
   "source": [
    "# Project: Recognizing Traffic Signs Using Deep Learning\n",
    "### Scope: Summary\n",
    "##### Author: Ashish Panchal (epababl03.ashishp@iima.ac.in)"
   ]
  },
  {
   "cell_type": "code",
   "execution_count": 12,
   "metadata": {},
   "outputs": [],
   "source": [
    "import pandas as pd\n",
    "import seaborn as sns\n",
    "import matplotlib.pyplot as plt"
   ]
  },
  {
   "cell_type": "code",
   "execution_count": 8,
   "metadata": {},
   "outputs": [
    {
     "data": {
      "text/html": [
       "<div>\n",
       "<style scoped>\n",
       "    .dataframe tbody tr th:only-of-type {\n",
       "        vertical-align: middle;\n",
       "    }\n",
       "\n",
       "    .dataframe tbody tr th {\n",
       "        vertical-align: top;\n",
       "    }\n",
       "\n",
       "    .dataframe thead th {\n",
       "        text-align: right;\n",
       "    }\n",
       "</style>\n",
       "<table border=\"1\" class=\"dataframe\">\n",
       "  <thead>\n",
       "    <tr style=\"text-align: right;\">\n",
       "      <th></th>\n",
       "      <th>Models</th>\n",
       "      <th>Test Data Accuracy</th>\n",
       "      <th>Train Data Accuracy</th>\n",
       "      <th>Valid Data Accuracy</th>\n",
       "      <th>New Images Accuracy</th>\n",
       "    </tr>\n",
       "  </thead>\n",
       "  <tbody>\n",
       "    <tr>\n",
       "      <th>0</th>\n",
       "      <td>SVM</td>\n",
       "      <td>82.0</td>\n",
       "      <td>92.62</td>\n",
       "      <td>70.24</td>\n",
       "      <td>30.0</td>\n",
       "    </tr>\n",
       "    <tr>\n",
       "      <th>1</th>\n",
       "      <td>MLP</td>\n",
       "      <td>81.0</td>\n",
       "      <td>92.10</td>\n",
       "      <td>81.79</td>\n",
       "      <td>25.0</td>\n",
       "    </tr>\n",
       "    <tr>\n",
       "      <th>2</th>\n",
       "      <td>LeNet-5</td>\n",
       "      <td>90.8</td>\n",
       "      <td>99.26</td>\n",
       "      <td>92.99</td>\n",
       "      <td>50.0</td>\n",
       "    </tr>\n",
       "    <tr>\n",
       "      <th>3</th>\n",
       "      <td>VGGNet</td>\n",
       "      <td>97.2</td>\n",
       "      <td>99.88</td>\n",
       "      <td>99.04</td>\n",
       "      <td>75.0</td>\n",
       "    </tr>\n",
       "  </tbody>\n",
       "</table>\n",
       "</div>"
      ],
      "text/plain": [
       "    Models  Test Data Accuracy  Train Data Accuracy  Valid Data Accuracy  \\\n",
       "0      SVM                82.0                92.62                70.24   \n",
       "1      MLP                81.0                92.10                81.79   \n",
       "2  LeNet-5                90.8                99.26                92.99   \n",
       "3   VGGNet                97.2                99.88                99.04   \n",
       "\n",
       "   New Images Accuracy  \n",
       "0                 30.0  \n",
       "1                 25.0  \n",
       "2                 50.0  \n",
       "3                 75.0  "
      ]
     },
     "execution_count": 8,
     "metadata": {},
     "output_type": "execute_result"
    }
   ],
   "source": [
    "# Visualize all algorithms performance.\n",
    "per_dict = {\n",
    "    'Models': ['SVM', 'MLP', 'LeNet-5', 'VGGNet'],\n",
    "    'Test Data Accuracy': [82.0, 81.0, 90.8, 97.2],\n",
    "    'Train Data Accuracy': [92.62,92.10,99.26,99.88],\n",
    "    'Valid Data Accuracy': [70.24, 81.79,92.99,99.04],\n",
    "    'New Images Accuracy': [30.0,25.0,50.0,75.0]\n",
    "}\n",
    "\n",
    "model_per_df = pd.DataFrame(per_dict)\n",
    "model_per_df"
   ]
  },
  {
   "cell_type": "code",
   "execution_count": 33,
   "metadata": {},
   "outputs": [
    {
     "data": {
      "image/png": "[encoded data removed]",
      "text/plain": [
       "<Figure size 576x576 with 4 Axes>"
      ]
     },
     "metadata": {
      "needs_background": "light"
     },
     "output_type": "display_data"
    }
   ],
   "source": [
    "# fig, axs = plt.subplots(2,2, figsize=(7, 5))\n",
    "# sns.barplot(x='Models', y=\"Train Data Accuracy\", palette=\"rocket\", data=model_per_df)\n",
    "# sns.barplot(x='Models', y=\"Valid Data Accuracy\", palette=\"rocket\", data=model_per_df)\n",
    "# sns.barplot(x='Models', y=\"Test Data Accuracy\", palette=\"rocket\", data=model_per_df)\n",
    "# sns.barplot(x='Models', y=\"New Images Accuracy\", palette=\"rocket\", data=model_per_df)\n",
    "# plt.show() # to show graph\n",
    "\n",
    "models = model_per_df['Models']\n",
    "\n",
    "total_cols = 2\n",
    "total_rows = 2\n",
    "fig, axs = plt.subplots(nrows=total_rows, ncols=total_cols,\n",
    "                        figsize=(4*total_cols, 4*total_rows), constrained_layout=True)\n",
    "\n",
    "sns.barplot(x='Models', y=\"Train Data Accuracy\", palette=\"rocket\", data=model_per_df, ax=axs[0][0])\n",
    "sns.barplot(x='Models', y=\"Valid Data Accuracy\", palette=\"rocket\", data=model_per_df, ax=axs[0][1])\n",
    "sns.barplot(x='Models', y=\"Test Data Accuracy\", palette=\"rocket\", data=model_per_df, ax=axs[1][0])\n",
    "sns.barplot(x='Models', y=\"New Images Accuracy\", palette=\"rocket\", data=model_per_df, ax=axs[1][1])\n",
    "plt.savefig('../plots/summary/algo_statistics.png')"
   ]
  },
  {
   "cell_type": "code",
   "execution_count": null,
   "metadata": {},
   "outputs": [],
   "source": []
  }
 ],
 "metadata": {
  "kernelspec": {
   "display_name": "Python 3",
   "language": "python",
   "name": "python3"
  },
  "language_info": {
   "codemirror_mode": {
    "name": "ipython",
    "version": 3
   },
   "file_extension": ".py",
   "mimetype": "text/x-python",
   "name": "python",
   "nbconvert_exporter": "python",
   "pygments_lexer": "ipython3",
   "version": "3.7.7"
  }
 },
 "nbformat": 4,
 "nbformat_minor": 4
}
