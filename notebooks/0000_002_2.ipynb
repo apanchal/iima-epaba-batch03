{
 "cells": [
  {
   "cell_type": "markdown",
   "metadata": {},
   "source": [
    "# Project: Recognizing Traffic Signs Using Deep Learning\n",
    "### Scope: Classifier: Sklearn's MLPClassifier Neural Net Investigation on tunning hyper-parameters\n",
    "##### Author: Ashish Panchal (epababl03.ashishp@iima.ac.in)"
   ]
  },
  {
   "cell_type": "code",
   "execution_count": 1,
   "metadata": {},
   "outputs": [],
   "source": [
    "# Import Libraries\n",
    "import warnings\n",
    "\n",
    "import sys\n",
    "import os\n",
    "import seaborn\n",
    "import numpy as np\n",
    "from os import path\n",
    "import matplotlib.pyplot as plt\n",
    "\n",
    "\n",
    "from sklearn.exceptions import ConvergenceWarning\n",
    "from sklearn.model_selection import GridSearchCV\n",
    "from sklearn.neural_network import MLPClassifier\n",
    "from sklearn.model_selection import RandomizedSearchCV\n",
    "\n",
    "# Local python modules\n",
    "sys.path.insert(0, os.path.abspath('../src/util'))\n",
    "sys.path.insert(1, os.path.abspath('../src/model'))\n",
    "sys.path.insert(2, os.path.abspath('../src/data'))\n",
    "from util import Util\n",
    "from load_save import LoadSave"
   ]
  },
  {
   "cell_type": "code",
   "execution_count": 2,
   "metadata": {},
   "outputs": [],
   "source": [
    "#Load stored data\n",
    "\n",
    "#No. of classes\n",
    "%store -r n_classes\n",
    "\n",
    "# class labels\n",
    "%store -r signs\n",
    "\n",
    "#Final preprocessed Training Dataset\n",
    "%store -r X_train_preprocessed\n",
    "%store -r y_train_final\n",
    "\n",
    "#Final preprocessed Test Dataset\n",
    "%store -r X_test_preprocessed\n",
    "%store -r y_test\n",
    "\n",
    "\n",
    "#Final preprocessed Validation Dataset\n",
    "%store -r X_valid_preprocessed \n",
    "%store -r y_valid"
   ]
  },
  {
   "cell_type": "markdown",
   "metadata": {},
   "source": [
    "#### Verify pre-processed Training, Test, and Validation datasets"
   ]
  },
  {
   "cell_type": "code",
   "execution_count": 3,
   "metadata": {},
   "outputs": [
    {
     "name": "stdout",
     "output_type": "stream",
     "text": [
      "(39239, 32, 32, 1)\n",
      "(39239,)\n",
      "(4410, 32, 32, 1)\n",
      "(4410,)\n"
     ]
    }
   ],
   "source": [
    "print(X_train_preprocessed.shape)\n",
    "print(y_train_final.shape)\n",
    "print(X_valid_preprocessed.shape)\n",
    "print(y_valid.shape)"
   ]
  },
  {
   "cell_type": "markdown",
   "metadata": {},
   "source": [
    "## 5.1 Hyper-parameters of MLP"
   ]
  },
  {
   "cell_type": "code",
   "execution_count": 4,
   "metadata": {},
   "outputs": [],
   "source": [
    "# Find hyper parameters for MLP\n",
    "parameters = {\n",
    "    'solver': ['sgd', 'adam'], \n",
    "    'max_iter': [400], \n",
    "    'alpha': 10.0 ** -np.arange(3, 6), \n",
    "    'hidden_layer_sizes':[(1024,),(64,)]\n",
    "}\n",
    "X_train = X_train_preprocessed.reshape((len(X_train_preprocessed)),-1)"
   ]
  },
  {
   "cell_type": "code",
   "execution_count": null,
   "metadata": {},
   "outputs": [
    {
     "name": "stdout",
     "output_type": "stream",
     "text": [
      "Fitting 5 folds for each of 10 candidates, totalling 50 fits\n"
     ]
    },
    {
     "name": "stderr",
     "output_type": "stream",
     "text": [
      "[Parallel(n_jobs=10)]: Using backend LokyBackend with 10 concurrent workers.\n",
      "[Parallel(n_jobs=10)]: Done  12 tasks      | elapsed: 98.7min\n"
     ]
    }
   ],
   "source": [
    "random_search_clf = RandomizedSearchCV(MLPClassifier(), parameters, n_jobs=10, cv=5, verbose=3)\n",
    "random_search_clf.fit(X_train, y_train_final)"
   ]
  },
  {
   "cell_type": "code",
   "execution_count": null,
   "metadata": {},
   "outputs": [],
   "source": [
    "print(grid_search_clf.best_estimator_)\n",
    "print(grid_search_clf.best_params_)"
   ]
  },
  {
   "cell_type": "markdown",
   "metadata": {},
   "source": [
    "### 5.2 Different learning rate schedules and momentum parameters (Comparing different learning strategies for the network)"
   ]
  },
  {
   "cell_type": "code",
   "execution_count": null,
   "metadata": {},
   "outputs": [],
   "source": [
    "params = [\n",
    "    {'solver': 'sgd', 'learning_rate': 'constant', 'momentum': .9,\n",
    "           'learning_rate_init': 0.001, 'alpha':0.0001, 'hidden_layer_sizes': (1024, 750, 250, 43)},\n",
    "    {'solver': 'adam', 'learning_rate_init': 0.001,'alpha':0.0001, 'hidden_layer_sizes': (1024, 750, 250, 43)}\n",
    "]"
   ]
  }
 ],
 "metadata": {
  "kernelspec": {
   "display_name": "Python 3",
   "language": "python",
   "name": "python3"
  },
  "language_info": {
   "codemirror_mode": {
    "name": "ipython",
    "version": 3
   },
   "file_extension": ".py",
   "mimetype": "text/x-python",
   "name": "python",
   "nbconvert_exporter": "python",
   "pygments_lexer": "ipython3",
   "version": "3.7.7"
  }
 },
 "nbformat": 4,
 "nbformat_minor": 4
}
